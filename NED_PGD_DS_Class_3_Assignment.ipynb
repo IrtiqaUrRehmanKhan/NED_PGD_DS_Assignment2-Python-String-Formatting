{
  "nbformat": 4,
  "nbformat_minor": 0,
  "metadata": {
    "colab": {
      "provenance": [],
      "authorship_tag": "ABX9TyNPOqh/EwdMzdVXm5HFAzQC",
      "include_colab_link": true
    },
    "kernelspec": {
      "name": "python3",
      "display_name": "Python 3"
    },
    "language_info": {
      "name": "python"
    }
  },
  "cells": [
    {
      "cell_type": "markdown",
      "metadata": {
        "id": "view-in-github",
        "colab_type": "text"
      },
      "source": [
        "<a href=\"https://colab.research.google.com/github/IrtiqaUrRehmanKhan/NED_PGD_DS_Assignment2-Python-String-Formatting/blob/main/NED_PGD_DS_Class_3_Assignment.ipynb\" target=\"_parent\"><img src=\"https://colab.research.google.com/assets/colab-badge.svg\" alt=\"Open In Colab\"/></a>"
      ]
    },
    {
      "cell_type": "markdown",
      "source": [
        "**Assignment 1: String Concatenation and Formatting**"
      ],
      "metadata": {
        "id": "kgdos8kfOt7L"
      }
    },
    {
      "cell_type": "code",
      "execution_count": null,
      "metadata": {
        "colab": {
          "base_uri": "https://localhost:8080/"
        },
        "id": "o_xUO1pvNgro",
        "outputId": "4de9c69a-22d7-48cd-884f-7c488a5807ce"
      },
      "outputs": [
        {
          "output_type": "stream",
          "name": "stdout",
          "text": [
            "My name is Irtiqa Ur Rehman Khan, I am 26 years old, and I live in Pakistan.\n"
          ]
        }
      ],
      "source": [
        "name = \"Irtiqa Ur Rehman Khan\"\n",
        "\n",
        "age = 26\n",
        "\n",
        "country = \"Pakistan\"\n",
        "\n",
        "text = \"My name is \" + name + \", I am \" + str(age) + \" years old, and I live in \" + country + \".\"\n",
        "\n",
        "print(text)"
      ]
    },
    {
      "cell_type": "markdown",
      "source": [
        "**Assignment 2: String Formatting using `.format()`**"
      ],
      "metadata": {
        "id": "f61LHK3iQ1SD"
      }
    },
    {
      "cell_type": "code",
      "source": [
        "item = \"laptop\"\n",
        "\n",
        "price = 999.99\n",
        "\n",
        "quantity = 2\n",
        "\n",
        "total_cost = price * quantity\n",
        "\n",
        "text = \"I bought {} {}(s) at {} each, for a total of ${:.2f}.\".format(quantity, item, price, total_cost)\n",
        "\n",
        "print(text)\n"
      ],
      "metadata": {
        "colab": {
          "base_uri": "https://localhost:8080/"
        },
        "id": "n0me8zWVQ9nP",
        "outputId": "4d05eaaa-872d-4bf2-c679-fdf1efbe3307"
      },
      "execution_count": null,
      "outputs": [
        {
          "output_type": "stream",
          "name": "stdout",
          "text": [
            "I bought 2 laptop(s) at 999.99 each, for a total of $1999.98.\n"
          ]
        }
      ]
    },
    {
      "cell_type": "code",
      "source": [
        "item = \"book\"\n",
        "\n",
        "price = 12.99\n",
        "\n",
        "quantity = 5\n",
        "\n",
        "total_cost = price * quantity\n",
        "\n",
        "text = f\"I bought {quantity} {item}(s) at {price} each, for a total of ${total_cost:.2f}.\"\n",
        "\n",
        "print(text)\n"
      ],
      "metadata": {
        "colab": {
          "base_uri": "https://localhost:8080/"
        },
        "id": "GXG-LH-jT02i",
        "outputId": "8a25a81d-835b-4edf-d20f-0641cb5396bb"
      },
      "execution_count": null,
      "outputs": [
        {
          "output_type": "stream",
          "name": "stdout",
          "text": [
            "I bought 5 book(s) at 12.99 each, for a total of $64.95.\n"
          ]
        }
      ]
    },
    {
      "cell_type": "markdown",
      "source": [
        "**Assignment 3: String Interpolation using `f''`**"
      ],
      "metadata": {
        "id": "NLZkbWs6VXDe"
      }
    },
    {
      "cell_type": "code",
      "source": [
        "city = \"Karachi\"\n",
        "\n",
        "temperature = 32.2\n",
        "\n",
        "print (f\"The temperature in {city} is {temperature}°C.\")\n",
        "\n"
      ],
      "metadata": {
        "colab": {
          "base_uri": "https://localhost:8080/"
        },
        "id": "o6e1Tn5kVh4L",
        "outputId": "c819b761-f6f6-4de9-b037-881c17ebc634"
      },
      "execution_count": null,
      "outputs": [
        {
          "output_type": "stream",
          "name": "stdout",
          "text": [
            "The temperature in Karachi is 32.2°C.\n"
          ]
        }
      ]
    },
    {
      "cell_type": "markdown",
      "source": [
        "**Assignment 4: String Formatting using `%()`**"
      ],
      "metadata": {
        "id": "eRAmjhzOWv_t"
      }
    },
    {
      "cell_type": "code",
      "source": [
        "first_name = \"Irtiqa\"\n",
        "last_name = \"Khan\"\n",
        "birth_year = 1997\n",
        "current_year = 2023\n",
        "age = current_year - birth_year\n",
        "\n",
        "text = \"My name is %s %s and I am %d years old.\" % (first_name, last_name, age)\n",
        "print(text)\n"
      ],
      "metadata": {
        "colab": {
          "base_uri": "https://localhost:8080/"
        },
        "id": "nyFG4swGvdSA",
        "outputId": "50b90c0b-7bc0-43b3-ac72-e719a6132781"
      },
      "execution_count": 1,
      "outputs": [
        {
          "output_type": "stream",
          "name": "stdout",
          "text": [
            "My name is Irtiqa Khan and I am 26 years old.\n"
          ]
        }
      ]
    },
    {
      "cell_type": "code",
      "source": [
        "first_name = \"Irtiqa\"\n",
        "last_name = \"Khan\"\n",
        "birth_year = 1997\n",
        "current_year = 2023\n",
        "age = current_year - birth_year\n",
        "\n",
        "text = (\"My name is %(first_name)s %(last_name)s and I am %(age)d years old.\") %{\"first_name\": first_name, \"last_name\": last_name, \"age\": age}\n",
        "print (text)"
      ],
      "metadata": {
        "colab": {
          "base_uri": "https://localhost:8080/"
        },
        "id": "xoMBXScZw4hl",
        "outputId": "743e206e-d758-45b0-feae-3bddfe1f6603"
      },
      "execution_count": 2,
      "outputs": [
        {
          "output_type": "stream",
          "name": "stdout",
          "text": [
            "My name is Irtiqa Khan and I am 26 years old.\n"
          ]
        }
      ]
    },
    {
      "cell_type": "markdown",
      "source": [
        "**Assignment 5: Combining Formatting Methods**"
      ],
      "metadata": {
        "id": "cT6c8g1OxCV_"
      }
    },
    {
      "cell_type": "code",
      "source": [
        "product = \"Smartphone\"\n",
        "\n",
        "discount = 15\n",
        "\n",
        "original_price = 500\n",
        "\n",
        "discounted_price = original_price * (1 - discount / 100)\n",
        "\n",
        "text = \"The {} is originally priced at ${:.2f}. With a discount of {}%, the discounted price is ${:.2f}.\".format(product, original_price, discount, discounted_price)\n",
        "\n",
        "print(text)\n"
      ],
      "metadata": {
        "colab": {
          "base_uri": "https://localhost:8080/"
        },
        "id": "L-uv0uZCxIP9",
        "outputId": "1026a6f0-0551-4788-8347-202036d4fcc9"
      },
      "execution_count": 3,
      "outputs": [
        {
          "output_type": "stream",
          "name": "stdout",
          "text": [
            "The Smartphone is originally priced at $500.00. With a discount of 15%, the discounted price is $425.00.\n"
          ]
        }
      ]
    },
    {
      "cell_type": "code",
      "source": [
        "product = \"Laptop\"\n",
        "\n",
        "discount = 20\n",
        "\n",
        "original_price = 150000\n",
        "\n",
        "discounted_price = original_price * (1 - discount / 100)\n",
        "\n",
        "descriptive_string = f\"The {product} is originally priced at PKR{original_price:.2f}. With a discount of {discount}%, the discounted price is PKR{discounted_price:.2f}.\"\n",
        "\n",
        "print(descriptive_string)\n"
      ],
      "metadata": {
        "colab": {
          "base_uri": "https://localhost:8080/"
        },
        "id": "7aMt5IGfyypT",
        "outputId": "23b6335c-0665-486a-defd-9e7b3e3a3f2e"
      },
      "execution_count": 4,
      "outputs": [
        {
          "output_type": "stream",
          "name": "stdout",
          "text": [
            "The Laptop is originally priced at PKR150000.00. With a discount of 20%, the discounted price is PKR120000.00.\n"
          ]
        }
      ]
    }
  ]
}